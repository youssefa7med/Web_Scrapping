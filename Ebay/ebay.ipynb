{
 "cells": [
  {
   "cell_type": "code",
   "execution_count": 4,
   "id": "df7e03a2",
   "metadata": {},
   "outputs": [],
   "source": [
    "import requests\n",
    "from bs4 import BeautifulSoup"
   ]
  },
  {
   "cell_type": "code",
   "execution_count": 301,
   "id": "966307f9",
   "metadata": {},
   "outputs": [
    {
     "data": {
      "text/plain": [
       "<Response [200]>"
      ]
     },
     "execution_count": 301,
     "metadata": {},
     "output_type": "execute_result"
    }
   ],
   "source": [
    "res = requests.get(\"https://www.ebay.com/sch/i.html?_nkw=iphone+11+unlocked&_sacat=15709&_sop=12\")\n",
    "res"
   ]
  },
  {
   "cell_type": "code",
   "execution_count": 302,
   "id": "7929c810",
   "metadata": {},
   "outputs": [],
   "source": [
    "soup = BeautifulSoup(res.content,\"lxml\")"
   ]
  },
  {
   "cell_type": "code",
   "execution_count": 303,
   "id": "88091eb6",
   "metadata": {
    "scrolled": true
   },
   "outputs": [
    {
     "ename": "AttributeError",
     "evalue": "'NoneType' object has no attribute 'find_all'",
     "output_type": "error",
     "traceback": [
      "\u001b[1;31m---------------------------------------------------------------------------\u001b[0m",
      "\u001b[1;31mAttributeError\u001b[0m                            Traceback (most recent call last)",
      "Cell \u001b[1;32mIn[303], line 1\u001b[0m\n\u001b[1;32m----> 1\u001b[0m iphones \u001b[38;5;241m=\u001b[39m soup\u001b[38;5;241m.\u001b[39mfind(\u001b[38;5;124m\"\u001b[39m\u001b[38;5;124mul\u001b[39m\u001b[38;5;124m\"\u001b[39m,{\u001b[38;5;124m\"\u001b[39m\u001b[38;5;124mclass\u001b[39m\u001b[38;5;124m\"\u001b[39m:\u001b[38;5;124m\"\u001b[39m\u001b[38;5;124msrp-results srp-grid clearfix\u001b[39m\u001b[38;5;124m\"\u001b[39m})\u001b[38;5;241m.\u001b[39mfind_all(\u001b[38;5;124m\"\u001b[39m\u001b[38;5;124mli\u001b[39m\u001b[38;5;124m\"\u001b[39m,{\u001b[38;5;124m\"\u001b[39m\u001b[38;5;124mclass\u001b[39m\u001b[38;5;124m\"\u001b[39m:\u001b[38;5;124m\"\u001b[39m\u001b[38;5;124ms-item s-item__pl-on-bottom\u001b[39m\u001b[38;5;124m\"\u001b[39m})\n",
      "\u001b[1;31mAttributeError\u001b[0m: 'NoneType' object has no attribute 'find_all'"
     ]
    }
   ],
   "source": [
    "iphones = soup.find(\"ul\",{\"class\":\"srp-results srp-grid clearfix\"}).find_all(\"li\",{\"class\":\"s-item s-item__pl-on-bottom\"})"
   ]
  },
  {
   "cell_type": "code",
   "execution_count": 304,
   "id": "8f252996",
   "metadata": {},
   "outputs": [
    {
     "data": {
      "text/plain": [
       "'Shop on eBay'"
      ]
     },
     "execution_count": 304,
     "metadata": {},
     "output_type": "execute_result"
    }
   ],
   "source": [
    "iphone_long_disc = iphones[0].find(\"div\",{\"class\":\"s-item__title\"}).text\n",
    "iphone_long_disc"
   ]
  },
  {
   "cell_type": "code",
   "execution_count": 305,
   "id": "68e044ba",
   "metadata": {},
   "outputs": [
    {
     "name": "stdout",
     "output_type": "stream",
     "text": [
      "None Rating\n"
     ]
    }
   ],
   "source": [
    "try :\n",
    "    iphone_rating = iphones[9].find(\"div\",{\"class\":\"x-star-rating\"}).find(\"span\",{\"class\":\"clipped\"}).text\n",
    "    print(iphone_rating)\n",
    "except AttributeError:\n",
    "    print(\"None Rating\")"
   ]
  },
  {
   "cell_type": "code",
   "execution_count": 306,
   "id": "7726f822",
   "metadata": {},
   "outputs": [
    {
     "data": {
      "text/plain": [
       "'$20.00'"
      ]
     },
     "execution_count": 306,
     "metadata": {},
     "output_type": "execute_result"
    }
   ],
   "source": [
    "iphone_price = iphones[0].find(\"span\",{\"class\":\"s-item__price\"}).text\n",
    "iphone_price"
   ]
  },
  {
   "cell_type": "code",
   "execution_count": 307,
   "id": "03a14a64",
   "metadata": {},
   "outputs": [
    {
     "ename": "AttributeError",
     "evalue": "'NoneType' object has no attribute 'text'",
     "output_type": "error",
     "traceback": [
      "\u001b[1;31m---------------------------------------------------------------------------\u001b[0m",
      "\u001b[1;31mAttributeError\u001b[0m                            Traceback (most recent call last)",
      "Cell \u001b[1;32mIn[307], line 1\u001b[0m\n\u001b[1;32m----> 1\u001b[0m seller_loc \u001b[38;5;241m=\u001b[39m iphones[\u001b[38;5;241m0\u001b[39m]\u001b[38;5;241m.\u001b[39mfind(\u001b[38;5;124m\"\u001b[39m\u001b[38;5;124mspan\u001b[39m\u001b[38;5;124m\"\u001b[39m,{\u001b[38;5;124m\"\u001b[39m\u001b[38;5;124mclass\u001b[39m\u001b[38;5;124m\"\u001b[39m:\u001b[38;5;124m\"\u001b[39m\u001b[38;5;124ms-item__location s-item__itemLocation\u001b[39m\u001b[38;5;124m\"\u001b[39m})\u001b[38;5;241m.\u001b[39mtext\n\u001b[0;32m      2\u001b[0m seller_loc\n",
      "\u001b[1;31mAttributeError\u001b[0m: 'NoneType' object has no attribute 'text'"
     ]
    }
   ],
   "source": [
    "seller_loc = iphones[0].find(\"span\",{\"class\":\"s-item__location s-item__itemLocation\"}).text\n",
    "seller_loc"
   ]
  },
  {
   "cell_type": "code",
   "execution_count": 308,
   "id": "8973d1c6",
   "metadata": {},
   "outputs": [
    {
     "ename": "AttributeError",
     "evalue": "'NoneType' object has no attribute 'text'",
     "output_type": "error",
     "traceback": [
      "\u001b[1;31m---------------------------------------------------------------------------\u001b[0m",
      "\u001b[1;31mAttributeError\u001b[0m                            Traceback (most recent call last)",
      "Cell \u001b[1;32mIn[308], line 1\u001b[0m\n\u001b[1;32m----> 1\u001b[0m shiping_cost \u001b[38;5;241m=\u001b[39m iphones[\u001b[38;5;241m0\u001b[39m]\u001b[38;5;241m.\u001b[39mfind(\u001b[38;5;124m\"\u001b[39m\u001b[38;5;124mspan\u001b[39m\u001b[38;5;124m\"\u001b[39m,{\u001b[38;5;124m\"\u001b[39m\u001b[38;5;124mclass\u001b[39m\u001b[38;5;124m\"\u001b[39m:\u001b[38;5;124m\"\u001b[39m\u001b[38;5;124ms-item__shipping s-item__logisticsCost\u001b[39m\u001b[38;5;124m\"\u001b[39m})\u001b[38;5;241m.\u001b[39mtext\n\u001b[0;32m      2\u001b[0m shiping_cost\n",
      "\u001b[1;31mAttributeError\u001b[0m: 'NoneType' object has no attribute 'text'"
     ]
    }
   ],
   "source": [
    "shiping_cost = iphones[0].find(\"span\",{\"class\":\"s-item__shipping s-item__logisticsCost\"}).text\n",
    "shiping_cost"
   ]
  },
  {
   "cell_type": "code",
   "execution_count": 309,
   "id": "566fb3ca",
   "metadata": {},
   "outputs": [
    {
     "name": "stdout",
     "output_type": "stream",
     "text": [
      "This seller not sold this goods before\n"
     ]
    }
   ],
   "source": [
    "try:\n",
    "    QuantitySold = iphones[0].find(\"span\",{\"class\":\"s-item__dynamic s-item__quantitySold\"}).text\n",
    "    print(QuantitySold)\n",
    "except:\n",
    "    print(\"This seller not sold this goods before\")"
   ]
  },
  {
   "cell_type": "code",
   "execution_count": 313,
   "id": "4da75085",
   "metadata": {},
   "outputs": [
    {
     "data": {
      "text/plain": [
       "'Brand New'"
      ]
     },
     "execution_count": 313,
     "metadata": {},
     "output_type": "execute_result"
    }
   ],
   "source": [
    "sub_title = iphones[0].find(\"div\",{\"class\":\"s-item__subtitle\"}).text\n",
    "sub_title"
   ]
  },
  {
   "cell_type": "code",
   "execution_count": 266,
   "id": "b235cf19",
   "metadata": {},
   "outputs": [
    {
     "data": {
      "text/plain": [
       "94"
      ]
     },
     "execution_count": 266,
     "metadata": {},
     "output_type": "execute_result"
    }
   ],
   "source": [
    "# https://www.ebay.com/sch/i.html?_nkw=iphone+11+unlocked&_sop=12&rt=nc&_pgn=1\n",
    "numOfPages = 5600 % 60\n",
    "if numOfPages != 0 :\n",
    "    numOfPages =  5600 // 60 + 1\n",
    "else :\n",
    "    numOfPages = 5600 // 60\n",
    "numOfPages"
   ]
  },
  {
   "cell_type": "code",
   "execution_count": 5,
   "id": "8d0c0d73",
   "metadata": {},
   "outputs": [],
   "source": [
    "data = []\n",
    "for i in range (1):\n",
    "    url = f\"https://www.ebay.com/sch/i.html?_nkw=iphone+11+unlocked&_sop=12&rt=nc&_pgn={i}\"\n",
    "    src = requests.get(url)\n",
    "    soup = BeautifulSoup(src.content,\"lxml\")\n",
    "#     iphones = soup.find(\"ul\",{\"class\":\"srp-results srp-grid clearfix\"}).find_all(\"li\",{\"class\":\"s-item s-item__pl-on-bottom\"})\n",
    "    iphones = soup.find_all(\"li\",{\"class\":\"s-item s-item__pl-on-bottom\"})\n",
    "    \n",
    "    for iphone in iphones:\n",
    "        \n",
    "        try :\n",
    "            iphone_long_disc = iphone.find(\"div\",{\"class\":\"s-item__title\"}).text\n",
    "        except AttributeError:\n",
    "            iphone_long_disc = \"None\"\n",
    "            \n",
    "        if iphone_long_disc ==\"Shop on eBay\":\n",
    "            continue\n",
    "            \n",
    "        try :\n",
    "            iphone_rating = iphone.find(\"div\",{\"class\":\"x-star-rating\"}).find(\"span\",{\"class\":\"clipped\"}).text\n",
    "        except AttributeError:\n",
    "            iphone_rating = \"None Rating\"\n",
    "\n",
    "        try :\n",
    "            iphone_price = iphone.find(\"span\",{\"class\":\"s-item__price\"}).text\n",
    "        except AttributeError:\n",
    "            iphone_price = \"None Rating\"\n",
    "        \n",
    "        try :\n",
    "            seller_loc = iphone.find(\"span\",{\"class\":\"s-item__location s-item__itemLocation\"}).text\n",
    "        except AttributeError:\n",
    "            seller_loc = \"None\"\n",
    "            \n",
    "        try :    \n",
    "            shiping_cost = iphone.find(\"span\",{\"class\":\"s-item__shipping s-item__logisticsCost\"}).text\n",
    "        except AttributeError:\n",
    "            shiping_cost = \"None\" \n",
    "            \n",
    "        try:\n",
    "            QuantitySold = iphone.find(\"span\",{\"class\":\"s-item__dynamic s-item__quantitySold\"}).text\n",
    "        except AttributeError:\n",
    "            QuantitySold = \"None\"\n",
    "        \n",
    "        try:\n",
    "            sub_title = iphone.find(\"div\",{\"class\":\"s-item__subtitle\"}).text\n",
    "        except AttributeError:\n",
    "            sub_title = \"None\"\n",
    "            \n",
    "        data.append({\n",
    "            \"Iphone_long_disc\":iphone_long_disc,\n",
    "            \"Iphone_rating\":iphone_rating,\n",
    "            \"Iphone_price\":iphone_price,\n",
    "            \"Seller_loc\":seller_loc,\n",
    "            \"Shiping_cost\":shiping_cost,\n",
    "            \"QuantitySold\":QuantitySold,\n",
    "            \"Sub_title\":sub_title\n",
    "        })"
   ]
  },
  {
   "cell_type": "code",
   "execution_count": 12,
   "id": "e2837fab",
   "metadata": {},
   "outputs": [
    {
     "data": {
      "text/plain": [
       "{'Iphone_long_disc': 'Apple iPhone 11 Unlocked, 64GB/128GB/256GB, All Colours - Good',\n",
       " 'Iphone_rating': '4.5 out of 5 stars.',\n",
       " 'Iphone_price': '$274.03 to $398.60',\n",
       " 'Seller_loc': 'from United Kingdom',\n",
       " 'Shiping_cost': '+$27.06 shipping estimate',\n",
       " 'QuantitySold': '154+ sold',\n",
       " 'Sub_title': 'Fast and Free Shipping 12 Months Warranty UK Seller'}"
      ]
     },
     "execution_count": 12,
     "metadata": {},
     "output_type": "execute_result"
    }
   ],
   "source": [
    "data[0]"
   ]
  },
  {
   "cell_type": "code",
   "execution_count": 7,
   "id": "96fa921b",
   "metadata": {},
   "outputs": [],
   "source": [
    "import pandas as pd \n",
    "iphones_data = pd.DataFrame(data)"
   ]
  },
  {
   "cell_type": "code",
   "execution_count": 8,
   "id": "efe709f0",
   "metadata": {},
   "outputs": [
    {
     "data": {
      "text/html": [
       "<div>\n",
       "<style scoped>\n",
       "    .dataframe tbody tr th:only-of-type {\n",
       "        vertical-align: middle;\n",
       "    }\n",
       "\n",
       "    .dataframe tbody tr th {\n",
       "        vertical-align: top;\n",
       "    }\n",
       "\n",
       "    .dataframe thead th {\n",
       "        text-align: right;\n",
       "    }\n",
       "</style>\n",
       "<table border=\"1\" class=\"dataframe\">\n",
       "  <thead>\n",
       "    <tr style=\"text-align: right;\">\n",
       "      <th></th>\n",
       "      <th>Iphone_long_disc</th>\n",
       "      <th>Iphone_rating</th>\n",
       "      <th>Iphone_price</th>\n",
       "      <th>Seller_loc</th>\n",
       "      <th>Shiping_cost</th>\n",
       "      <th>QuantitySold</th>\n",
       "      <th>Sub_title</th>\n",
       "    </tr>\n",
       "  </thead>\n",
       "  <tbody>\n",
       "    <tr>\n",
       "      <th>0</th>\n",
       "      <td>Apple iPhone 11 Unlocked, 64GB/128GB/256GB, Al...</td>\n",
       "      <td>4.5 out of 5 stars.</td>\n",
       "      <td>$274.03 to $398.60</td>\n",
       "      <td>from United Kingdom</td>\n",
       "      <td>+$27.06 shipping estimate</td>\n",
       "      <td>154+ sold</td>\n",
       "      <td>Fast and Free Shipping 12 Months Warranty UK S...</td>\n",
       "    </tr>\n",
       "    <tr>\n",
       "      <th>1</th>\n",
       "      <td>Apple iPhone 11 - 128GB - Fully Unlocked (CDMA...</td>\n",
       "      <td>5.0 out of 5 stars.</td>\n",
       "      <td>$184.00 to $382.00</td>\n",
       "      <td>from United States</td>\n",
       "      <td>+$31.23 shipping</td>\n",
       "      <td>None</td>\n",
       "      <td>Pre-Owned</td>\n",
       "    </tr>\n",
       "    <tr>\n",
       "      <th>2</th>\n",
       "      <td>Apple iPhone 11 - 64GB - Purple (Unlocked) A21...</td>\n",
       "      <td>5.0 out of 5 stars.</td>\n",
       "      <td>$176.00 to $309.00</td>\n",
       "      <td>from United States</td>\n",
       "      <td>+$31.00 shipping</td>\n",
       "      <td>None</td>\n",
       "      <td>Pre-Owned</td>\n",
       "    </tr>\n",
       "    <tr>\n",
       "      <th>3</th>\n",
       "      <td>Apple iPhone 11 - 64GB - Purple (Unlocked) A21...</td>\n",
       "      <td>4.5 out of 5 stars.</td>\n",
       "      <td>$271.98</td>\n",
       "      <td>from United States</td>\n",
       "      <td>+$33.83 shipping</td>\n",
       "      <td>None</td>\n",
       "      <td>Open Box · Apple iPhone 11 · 64 GB · Unlocked</td>\n",
       "    </tr>\n",
       "    <tr>\n",
       "      <th>4</th>\n",
       "      <td>Apple iPhone 11 - 64GB - Purple (Unlocked) A21...</td>\n",
       "      <td>4.5 out of 5 stars.</td>\n",
       "      <td>$269.96</td>\n",
       "      <td>from United States</td>\n",
       "      <td>+$33.77 shipping</td>\n",
       "      <td>794 sold</td>\n",
       "      <td>Pre-Owned · Apple iPhone 11 · 64 GB · Unlocked</td>\n",
       "    </tr>\n",
       "    <tr>\n",
       "      <th>...</th>\n",
       "      <td>...</td>\n",
       "      <td>...</td>\n",
       "      <td>...</td>\n",
       "      <td>...</td>\n",
       "      <td>...</td>\n",
       "      <td>...</td>\n",
       "      <td>...</td>\n",
       "    </tr>\n",
       "    <tr>\n",
       "      <th>69</th>\n",
       "      <td>Apple iPhone 11 - 64GB - White (Factory Unlock...</td>\n",
       "      <td>4.5 out of 5 stars.</td>\n",
       "      <td>$229.99</td>\n",
       "      <td>from United States</td>\n",
       "      <td>+$32.59 shipping</td>\n",
       "      <td>None</td>\n",
       "      <td>Pre-Owned · Apple iPhone 11 · 64 GB · Cricket ...</td>\n",
       "    </tr>\n",
       "    <tr>\n",
       "      <th>70</th>\n",
       "      <td>Apple iPhone 11 (PRODUCT)RED - 128GB (Unlocked...</td>\n",
       "      <td>4.5 out of 5 stars.</td>\n",
       "      <td>$128.00</td>\n",
       "      <td>from United States</td>\n",
       "      <td>+$42.58 shipping</td>\n",
       "      <td>None</td>\n",
       "      <td>Parts Only · Apple iPhone 11 · 128 GB · Unlocked</td>\n",
       "    </tr>\n",
       "    <tr>\n",
       "      <th>71</th>\n",
       "      <td>Apple iPhone 11 - 256GB - Purple (Unlocked) A2...</td>\n",
       "      <td>5.0 out of 5 stars.</td>\n",
       "      <td>$258.99</td>\n",
       "      <td>from United States</td>\n",
       "      <td>+$33.44 shipping</td>\n",
       "      <td>None</td>\n",
       "      <td>Pre-Owned · Apple iPhone 11 · 256 GB · Unlocked</td>\n",
       "    </tr>\n",
       "    <tr>\n",
       "      <th>72</th>\n",
       "      <td>Apple iPhone 11 Pro Max 256GB Smartphone White...</td>\n",
       "      <td>None Rating</td>\n",
       "      <td>$285.00</td>\n",
       "      <td>from United States</td>\n",
       "      <td>+$42.46 shipping</td>\n",
       "      <td>None</td>\n",
       "      <td>Pre-Owned · Apple iPhone 11 Pro Max · 256 GB ·...</td>\n",
       "    </tr>\n",
       "    <tr>\n",
       "      <th>73</th>\n",
       "      <td>Apple iPhone 11 - 128GB - Black. Unlocked A211...</td>\n",
       "      <td>None Rating</td>\n",
       "      <td>$176.00 to $369.00</td>\n",
       "      <td>from United States</td>\n",
       "      <td>+$31.00 shipping</td>\n",
       "      <td>None</td>\n",
       "      <td>Pre-Owned</td>\n",
       "    </tr>\n",
       "  </tbody>\n",
       "</table>\n",
       "<p>74 rows × 7 columns</p>\n",
       "</div>"
      ],
      "text/plain": [
       "                                     Iphone_long_disc        Iphone_rating  \\\n",
       "0   Apple iPhone 11 Unlocked, 64GB/128GB/256GB, Al...  4.5 out of 5 stars.   \n",
       "1   Apple iPhone 11 - 128GB - Fully Unlocked (CDMA...  5.0 out of 5 stars.   \n",
       "2   Apple iPhone 11 - 64GB - Purple (Unlocked) A21...  5.0 out of 5 stars.   \n",
       "3   Apple iPhone 11 - 64GB - Purple (Unlocked) A21...  4.5 out of 5 stars.   \n",
       "4   Apple iPhone 11 - 64GB - Purple (Unlocked) A21...  4.5 out of 5 stars.   \n",
       "..                                                ...                  ...   \n",
       "69  Apple iPhone 11 - 64GB - White (Factory Unlock...  4.5 out of 5 stars.   \n",
       "70  Apple iPhone 11 (PRODUCT)RED - 128GB (Unlocked...  4.5 out of 5 stars.   \n",
       "71  Apple iPhone 11 - 256GB - Purple (Unlocked) A2...  5.0 out of 5 stars.   \n",
       "72  Apple iPhone 11 Pro Max 256GB Smartphone White...          None Rating   \n",
       "73  Apple iPhone 11 - 128GB - Black. Unlocked A211...          None Rating   \n",
       "\n",
       "          Iphone_price           Seller_loc               Shiping_cost  \\\n",
       "0   $274.03 to $398.60  from United Kingdom  +$27.06 shipping estimate   \n",
       "1   $184.00 to $382.00   from United States           +$31.23 shipping   \n",
       "2   $176.00 to $309.00   from United States           +$31.00 shipping   \n",
       "3              $271.98   from United States           +$33.83 shipping   \n",
       "4              $269.96   from United States           +$33.77 shipping   \n",
       "..                 ...                  ...                        ...   \n",
       "69             $229.99   from United States           +$32.59 shipping   \n",
       "70             $128.00   from United States           +$42.58 shipping   \n",
       "71             $258.99   from United States           +$33.44 shipping   \n",
       "72             $285.00   from United States           +$42.46 shipping   \n",
       "73  $176.00 to $369.00   from United States           +$31.00 shipping   \n",
       "\n",
       "   QuantitySold                                          Sub_title  \n",
       "0     154+ sold  Fast and Free Shipping 12 Months Warranty UK S...  \n",
       "1          None                                          Pre-Owned  \n",
       "2          None                                          Pre-Owned  \n",
       "3          None      Open Box · Apple iPhone 11 · 64 GB · Unlocked  \n",
       "4      794 sold     Pre-Owned · Apple iPhone 11 · 64 GB · Unlocked  \n",
       "..          ...                                                ...  \n",
       "69         None  Pre-Owned · Apple iPhone 11 · 64 GB · Cricket ...  \n",
       "70         None   Parts Only · Apple iPhone 11 · 128 GB · Unlocked  \n",
       "71         None    Pre-Owned · Apple iPhone 11 · 256 GB · Unlocked  \n",
       "72         None  Pre-Owned · Apple iPhone 11 Pro Max · 256 GB ·...  \n",
       "73         None                                          Pre-Owned  \n",
       "\n",
       "[74 rows x 7 columns]"
      ]
     },
     "execution_count": 8,
     "metadata": {},
     "output_type": "execute_result"
    }
   ],
   "source": [
    "iphones_data"
   ]
  },
  {
   "cell_type": "code",
   "execution_count": 330,
   "id": "68135171",
   "metadata": {},
   "outputs": [],
   "source": [
    "iphones_data.to_csv(\"Iphones_Ebay.csv\",index= False)"
   ]
  },
  {
   "cell_type": "code",
   "execution_count": null,
   "id": "07e54899",
   "metadata": {},
   "outputs": [],
   "source": []
  }
 ],
 "metadata": {
  "kernelspec": {
   "display_name": "Python 3 (ipykernel)",
   "language": "python",
   "name": "python3"
  },
  "language_info": {
   "codemirror_mode": {
    "name": "ipython",
    "version": 3
   },
   "file_extension": ".py",
   "mimetype": "text/x-python",
   "name": "python",
   "nbconvert_exporter": "python",
   "pygments_lexer": "ipython3",
   "version": "3.11.3"
  }
 },
 "nbformat": 4,
 "nbformat_minor": 5
}
