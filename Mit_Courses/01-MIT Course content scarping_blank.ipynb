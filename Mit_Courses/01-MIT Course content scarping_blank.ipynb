{
 "cells": [
  {
   "cell_type": "code",
   "execution_count": 2,
   "metadata": {},
   "outputs": [],
   "source": [
    "import csv\n",
    "import requests\n",
    "from bs4 import BeautifulSoup"
   ]
  },
  {
   "cell_type": "code",
   "execution_count": 38,
   "metadata": {},
   "outputs": [],
   "source": [
    "url = 'https://ocw.mit.edu/courses/electrical-engineering-and-computer-science/6-006-introduction-to-algorithms-spring-2020/lecture-videos/#'\n",
    "response = requests.get(url)"
   ]
  },
  {
   "cell_type": "code",
   "execution_count": 39,
   "metadata": {},
   "outputs": [],
   "source": [
    "# make the soup\n",
    "soup = BeautifulSoup(response.text,\"lxml\")"
   ]
  },
  {
   "cell_type": "code",
   "execution_count": 41,
   "metadata": {},
   "outputs": [],
   "source": [
    "# get the tag contains title & link\n",
    "all_courses = soup.find_all(\"a\",{\"class\":\"resource-list-title\"})\n"
   ]
  },
  {
   "cell_type": "code",
   "execution_count": 42,
   "metadata": {},
   "outputs": [
    {
     "data": {
      "text/plain": [
       "'Lecture 1: Algorithms and Computation'"
      ]
     },
     "execution_count": 42,
     "metadata": {},
     "output_type": "execute_result"
    }
   ],
   "source": [
    "# get text of from the tag (title)\n",
    "st_title = all_courses[0].text\n",
    "st_title"
   ]
  },
  {
   "cell_type": "code",
   "execution_count": 43,
   "metadata": {},
   "outputs": [
    {
     "data": {
      "text/plain": [
       "'/courses/6-006-introduction-to-algorithms-spring-2020/resources/lecture-1-algorithms-and-computation/'"
      ]
     },
     "execution_count": 43,
     "metadata": {},
     "output_type": "execute_result"
    }
   ],
   "source": [
    "# get link of from the tag \n",
    "st_link = all_courses[0]['href']\n",
    "st_link"
   ]
  },
  {
   "cell_type": "code",
   "execution_count": 46,
   "metadata": {
    "scrolled": true
   },
   "outputs": [
    {
     "data": {
      "text/plain": [
       "'https://ocw.mit.edu/courses/6-006-introduction-to-algorithms-spring-2020/resources/lecture-1-algorithms-and-computation/'"
      ]
     },
     "execution_count": 46,
     "metadata": {},
     "output_type": "execute_result"
    }
   ],
   "source": [
    "final_link = 'https://ocw.mit.edu' + st_link \n",
    "final_link"
   ]
  },
  {
   "cell_type": "code",
   "execution_count": 50,
   "metadata": {},
   "outputs": [],
   "source": [
    "# open csv file\n",
    "with open(\"courses.csv\",\"w\",newline='',encoding=\"utf-8\") as f:\n",
    "    # provide field names\n",
    "    fieldnames =['title','link']\n",
    "    # provide the writer method\n",
    "    writer = csv.DictWriter(f,fieldnames=fieldnames)\n",
    "    # write header\n",
    "    writer.writeheader()\n",
    "    # make the loop\n",
    "    for i in all_courses:\n",
    "        title = i.text\n",
    "        link = 'https://ocw.mit.edu' + st_link\n",
    "        writer.writerow({'title':title,\"link\":link})"
   ]
  },
  {
   "cell_type": "code",
   "execution_count": 98,
   "metadata": {},
   "outputs": [],
   "source": [
    "import pandas as pd"
   ]
  },
  {
   "cell_type": "code",
   "execution_count": 99,
   "metadata": {},
   "outputs": [
    {
     "data": {
      "text/html": [
       "<div>\n",
       "<style scoped>\n",
       "    .dataframe tbody tr th:only-of-type {\n",
       "        vertical-align: middle;\n",
       "    }\n",
       "\n",
       "    .dataframe tbody tr th {\n",
       "        vertical-align: top;\n",
       "    }\n",
       "\n",
       "    .dataframe thead th {\n",
       "        text-align: right;\n",
       "    }\n",
       "</style>\n",
       "<table border=\"1\" class=\"dataframe\">\n",
       "  <thead>\n",
       "    <tr style=\"text-align: right;\">\n",
       "      <th></th>\n",
       "      <th>course_title</th>\n",
       "      <th>course_url</th>\n",
       "    </tr>\n",
       "  </thead>\n",
       "  <tbody>\n",
       "    <tr>\n",
       "      <th>0</th>\n",
       "      <td>Lecture 1: Algorithms and Computation</td>\n",
       "      <td>https://ocw.mit.edu/courses/6-006-introduction...</td>\n",
       "    </tr>\n",
       "    <tr>\n",
       "      <th>1</th>\n",
       "      <td>Problem Session 1</td>\n",
       "      <td>https://ocw.mit.edu/courses/6-006-introduction...</td>\n",
       "    </tr>\n",
       "    <tr>\n",
       "      <th>2</th>\n",
       "      <td>Quiz 1 Review</td>\n",
       "      <td>https://ocw.mit.edu/courses/6-006-introduction...</td>\n",
       "    </tr>\n",
       "    <tr>\n",
       "      <th>3</th>\n",
       "      <td>Lecture 2: Data Structures and Dynamic Arrays</td>\n",
       "      <td>https://ocw.mit.edu/courses/6-006-introduction...</td>\n",
       "    </tr>\n",
       "    <tr>\n",
       "      <th>4</th>\n",
       "      <td>Problem Session 2</td>\n",
       "      <td>https://ocw.mit.edu/courses/6-006-introduction...</td>\n",
       "    </tr>\n",
       "    <tr>\n",
       "      <th>5</th>\n",
       "      <td>Quiz 2 Review</td>\n",
       "      <td>https://ocw.mit.edu/courses/6-006-introduction...</td>\n",
       "    </tr>\n",
       "    <tr>\n",
       "      <th>6</th>\n",
       "      <td>Lecture 3: Sets and Sorting</td>\n",
       "      <td>https://ocw.mit.edu/courses/6-006-introduction...</td>\n",
       "    </tr>\n",
       "    <tr>\n",
       "      <th>7</th>\n",
       "      <td>Problem Session 3</td>\n",
       "      <td>https://ocw.mit.edu/courses/6-006-introduction...</td>\n",
       "    </tr>\n",
       "    <tr>\n",
       "      <th>8</th>\n",
       "      <td>Quiz 3 Review</td>\n",
       "      <td>https://ocw.mit.edu/courses/6-006-introduction...</td>\n",
       "    </tr>\n",
       "    <tr>\n",
       "      <th>9</th>\n",
       "      <td>Lecture 4: Hashing</td>\n",
       "      <td>https://ocw.mit.edu/courses/6-006-introduction...</td>\n",
       "    </tr>\n",
       "    <tr>\n",
       "      <th>10</th>\n",
       "      <td>Problem Session 4</td>\n",
       "      <td>https://ocw.mit.edu/courses/6-006-introduction...</td>\n",
       "    </tr>\n",
       "    <tr>\n",
       "      <th>11</th>\n",
       "      <td>Lecture 5: Linear Sorting</td>\n",
       "      <td>https://ocw.mit.edu/courses/6-006-introduction...</td>\n",
       "    </tr>\n",
       "    <tr>\n",
       "      <th>12</th>\n",
       "      <td>Problem Session 5</td>\n",
       "      <td>https://ocw.mit.edu/courses/6-006-introduction...</td>\n",
       "    </tr>\n",
       "    <tr>\n",
       "      <th>13</th>\n",
       "      <td>Lecture 6: Binary Trees, Part 1</td>\n",
       "      <td>https://ocw.mit.edu/courses/6-006-introduction...</td>\n",
       "    </tr>\n",
       "    <tr>\n",
       "      <th>14</th>\n",
       "      <td>Lecture 7: Binary Trees, Part 2: AVL</td>\n",
       "      <td>https://ocw.mit.edu/courses/6-006-introduction...</td>\n",
       "    </tr>\n",
       "    <tr>\n",
       "      <th>15</th>\n",
       "      <td>Lecture 8: Binary Heaps</td>\n",
       "      <td>https://ocw.mit.edu/courses/6-006-introduction...</td>\n",
       "    </tr>\n",
       "    <tr>\n",
       "      <th>16</th>\n",
       "      <td>Lecture 9: Breadth-First Search</td>\n",
       "      <td>https://ocw.mit.edu/courses/6-006-introduction...</td>\n",
       "    </tr>\n",
       "    <tr>\n",
       "      <th>17</th>\n",
       "      <td>Lecture 10: Depth-First Search</td>\n",
       "      <td>https://ocw.mit.edu/courses/6-006-introduction...</td>\n",
       "    </tr>\n",
       "    <tr>\n",
       "      <th>18</th>\n",
       "      <td>Lecture 11: Weighted Shortest Paths</td>\n",
       "      <td>https://ocw.mit.edu/courses/6-006-introduction...</td>\n",
       "    </tr>\n",
       "    <tr>\n",
       "      <th>19</th>\n",
       "      <td>Lecture 12: Bellman-Ford</td>\n",
       "      <td>https://ocw.mit.edu/courses/6-006-introduction...</td>\n",
       "    </tr>\n",
       "    <tr>\n",
       "      <th>20</th>\n",
       "      <td>Lecture 13: Dijkstra</td>\n",
       "      <td>https://ocw.mit.edu/courses/6-006-introduction...</td>\n",
       "    </tr>\n",
       "    <tr>\n",
       "      <th>21</th>\n",
       "      <td>Lecture 14: APSP and Johnson</td>\n",
       "      <td>https://ocw.mit.edu/courses/6-006-introduction...</td>\n",
       "    </tr>\n",
       "    <tr>\n",
       "      <th>22</th>\n",
       "      <td>Lecture 15: Dynamic Programming, Part 1: SRTBO...</td>\n",
       "      <td>https://ocw.mit.edu/courses/6-006-introduction...</td>\n",
       "    </tr>\n",
       "    <tr>\n",
       "      <th>23</th>\n",
       "      <td>Lecture 16: Dynamic Programming, Part 2: LCS, ...</td>\n",
       "      <td>https://ocw.mit.edu/courses/6-006-introduction...</td>\n",
       "    </tr>\n",
       "    <tr>\n",
       "      <th>24</th>\n",
       "      <td>Lecture 17: Dynamic Programming, Part 3: APSP,...</td>\n",
       "      <td>https://ocw.mit.edu/courses/6-006-introduction...</td>\n",
       "    </tr>\n",
       "    <tr>\n",
       "      <th>25</th>\n",
       "      <td>Lecture 18: Dynamic Programming, Part 4: Rods,...</td>\n",
       "      <td>https://ocw.mit.edu/courses/6-006-introduction...</td>\n",
       "    </tr>\n",
       "    <tr>\n",
       "      <th>26</th>\n",
       "      <td>Lecture 19: Complexity</td>\n",
       "      <td>https://ocw.mit.edu/courses/6-006-introduction...</td>\n",
       "    </tr>\n",
       "    <tr>\n",
       "      <th>27</th>\n",
       "      <td>Lecture 20: Course Review</td>\n",
       "      <td>https://ocw.mit.edu/courses/6-006-introduction...</td>\n",
       "    </tr>\n",
       "    <tr>\n",
       "      <th>28</th>\n",
       "      <td>Lecture 21: AlgorithmsâNext Steps</td>\n",
       "      <td>https://ocw.mit.edu/courses/6-006-introduction...</td>\n",
       "    </tr>\n",
       "  </tbody>\n",
       "</table>\n",
       "</div>"
      ],
      "text/plain": [
       "                                         course_title  \\\n",
       "0               Lecture 1: Algorithms and Computation   \n",
       "1                                   Problem Session 1   \n",
       "2                                       Quiz 1 Review   \n",
       "3       Lecture 2: Data Structures and Dynamic Arrays   \n",
       "4                                   Problem Session 2   \n",
       "5                                       Quiz 2 Review   \n",
       "6                         Lecture 3: Sets and Sorting   \n",
       "7                                   Problem Session 3   \n",
       "8                                       Quiz 3 Review   \n",
       "9                                  Lecture 4: Hashing   \n",
       "10                                  Problem Session 4   \n",
       "11                          Lecture 5: Linear Sorting   \n",
       "12                                  Problem Session 5   \n",
       "13                    Lecture 6: Binary Trees, Part 1   \n",
       "14               Lecture 7: Binary Trees, Part 2: AVL   \n",
       "15                            Lecture 8: Binary Heaps   \n",
       "16                    Lecture 9: Breadth-First Search   \n",
       "17                     Lecture 10: Depth-First Search   \n",
       "18                Lecture 11: Weighted Shortest Paths   \n",
       "19                           Lecture 12: Bellman-Ford   \n",
       "20                               Lecture 13: Dijkstra   \n",
       "21                       Lecture 14: APSP and Johnson   \n",
       "22  Lecture 15: Dynamic Programming, Part 1: SRTBO...   \n",
       "23  Lecture 16: Dynamic Programming, Part 2: LCS, ...   \n",
       "24  Lecture 17: Dynamic Programming, Part 3: APSP,...   \n",
       "25  Lecture 18: Dynamic Programming, Part 4: Rods,...   \n",
       "26                             Lecture 19: Complexity   \n",
       "27                          Lecture 20: Course Review   \n",
       "28                Lecture 21: AlgorithmsâNext Steps   \n",
       "\n",
       "                                           course_url  \n",
       "0   https://ocw.mit.edu/courses/6-006-introduction...  \n",
       "1   https://ocw.mit.edu/courses/6-006-introduction...  \n",
       "2   https://ocw.mit.edu/courses/6-006-introduction...  \n",
       "3   https://ocw.mit.edu/courses/6-006-introduction...  \n",
       "4   https://ocw.mit.edu/courses/6-006-introduction...  \n",
       "5   https://ocw.mit.edu/courses/6-006-introduction...  \n",
       "6   https://ocw.mit.edu/courses/6-006-introduction...  \n",
       "7   https://ocw.mit.edu/courses/6-006-introduction...  \n",
       "8   https://ocw.mit.edu/courses/6-006-introduction...  \n",
       "9   https://ocw.mit.edu/courses/6-006-introduction...  \n",
       "10  https://ocw.mit.edu/courses/6-006-introduction...  \n",
       "11  https://ocw.mit.edu/courses/6-006-introduction...  \n",
       "12  https://ocw.mit.edu/courses/6-006-introduction...  \n",
       "13  https://ocw.mit.edu/courses/6-006-introduction...  \n",
       "14  https://ocw.mit.edu/courses/6-006-introduction...  \n",
       "15  https://ocw.mit.edu/courses/6-006-introduction...  \n",
       "16  https://ocw.mit.edu/courses/6-006-introduction...  \n",
       "17  https://ocw.mit.edu/courses/6-006-introduction...  \n",
       "18  https://ocw.mit.edu/courses/6-006-introduction...  \n",
       "19  https://ocw.mit.edu/courses/6-006-introduction...  \n",
       "20  https://ocw.mit.edu/courses/6-006-introduction...  \n",
       "21  https://ocw.mit.edu/courses/6-006-introduction...  \n",
       "22  https://ocw.mit.edu/courses/6-006-introduction...  \n",
       "23  https://ocw.mit.edu/courses/6-006-introduction...  \n",
       "24  https://ocw.mit.edu/courses/6-006-introduction...  \n",
       "25  https://ocw.mit.edu/courses/6-006-introduction...  \n",
       "26  https://ocw.mit.edu/courses/6-006-introduction...  \n",
       "27  https://ocw.mit.edu/courses/6-006-introduction...  \n",
       "28  https://ocw.mit.edu/courses/6-006-introduction...  "
      ]
     },
     "execution_count": 99,
     "metadata": {},
     "output_type": "execute_result"
    }
   ],
   "source": [
    "data = pd.read_csv('MIT.csv')\n",
    "data"
   ]
  }
 ],
 "metadata": {
  "kernelspec": {
   "display_name": "Python 3 (ipykernel)",
   "language": "python",
   "name": "python3"
  },
  "language_info": {
   "codemirror_mode": {
    "name": "ipython",
    "version": 3
   },
   "file_extension": ".py",
   "mimetype": "text/x-python",
   "name": "python",
   "nbconvert_exporter": "python",
   "pygments_lexer": "ipython3",
   "version": "3.11.3"
  }
 },
 "nbformat": 4,
 "nbformat_minor": 4
}
