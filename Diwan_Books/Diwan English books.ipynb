{
 "cells": [
  {
   "cell_type": "code",
   "execution_count": 1,
   "id": "50843aab",
   "metadata": {},
   "outputs": [],
   "source": [
    "import requests\n",
    "from bs4 import BeautifulSoup\n",
    "url = \"https://diwanegypt.com/product-category/books/english-books/page/2/\"\n",
    "res = requests.get(url)"
   ]
  },
  {
   "cell_type": "code",
   "execution_count": 2,
   "id": "fc22d380",
   "metadata": {},
   "outputs": [
    {
     "data": {
      "text/plain": [
       "<Response [200]>"
      ]
     },
     "execution_count": 2,
     "metadata": {},
     "output_type": "execute_result"
    }
   ],
   "source": [
    "res"
   ]
  },
  {
   "cell_type": "code",
   "execution_count": 4,
   "id": "50d5688b",
   "metadata": {},
   "outputs": [],
   "source": [
    "soup = BeautifulSoup(res.text,\"lxml\")"
   ]
  },
  {
   "cell_type": "code",
   "execution_count": 58,
   "id": "97af3d69",
   "metadata": {},
   "outputs": [],
   "source": [
    "books =soup.find(\"ul\",{\"class\":\"products columns-5\"}).find_all(\"li\")\n"
   ]
  },
  {
   "cell_type": "code",
   "execution_count": 59,
   "id": "c0a8550a",
   "metadata": {},
   "outputs": [
    {
     "data": {
      "text/plain": [
       "'Before the Coffee Gets Cold 4: Before We say Goodbye'"
      ]
     },
     "execution_count": 59,
     "metadata": {},
     "output_type": "execute_result"
    }
   ],
   "source": [
    "book_name = books[0].find(\"h2\").text\n",
    "book_name"
   ]
  },
  {
   "cell_type": "code",
   "execution_count": 60,
   "id": "e6c3afe8",
   "metadata": {},
   "outputs": [
    {
     "data": {
      "text/plain": [
       "'EGP595.00'"
      ]
     },
     "execution_count": 60,
     "metadata": {},
     "output_type": "execute_result"
    }
   ],
   "source": [
    "book_price = books[0].find(\"span\",{\"class\":\"price\"}).find(\"bdi\").text\n",
    "book_price"
   ]
  },
  {
   "cell_type": "code",
   "execution_count": 61,
   "id": "b755dc00",
   "metadata": {},
   "outputs": [],
   "source": [
    "data = []\n",
    "for book in books:\n",
    "    try :\n",
    "        book_name = book.find(\"h2\").text\n",
    "    except:\n",
    "        book_name=\"None\"\n",
    "    try :\n",
    "        book_price = book.find(\"span\",{\"class\":\"price\"}).find(\"bdi\").text\n",
    "    except:\n",
    "        book_price=\"None\"\n",
    "    \n",
    "    data.append({\"book_name\":book_name,\n",
    "                \"book_price\":book_price})"
   ]
  },
  {
   "cell_type": "code",
   "execution_count": 62,
   "id": "4b500300",
   "metadata": {},
   "outputs": [
    {
     "data": {
      "text/plain": [
       "[{'book_name': 'Before the Coffee Gets Cold 4: Before We say Goodbye',\n",
       "  'book_price': 'EGP595.00'},\n",
       " {'book_name': 'Wellness', 'book_price': 'EGP915.00'},\n",
       " {'book_name': 'Prophet Song', 'book_price': 'EGP795.00'},\n",
       " {'book_name': 'What You Are Looking for is in the Library',\n",
       "  'book_price': 'EGP695.00'},\n",
       " {'book_name': 'Worn On This Day: The Clothes That Made History',\n",
       "  'book_price': 'EGP1,280.00'},\n",
       " {'book_name': 'The Original Rider Waite Tarot Deck: 78 beautifully illustra',\n",
       "  'book_price': 'EGP870.00'},\n",
       " {'book_name': 'Vintage Fashion: A Sourcebook', 'book_price': 'EGP2,030.00'},\n",
       " {'book_name': 'Living Bright: Fashioning Colourful Interiors',\n",
       "  'book_price': 'EGP1,740.00'},\n",
       " {'book_name': 'Catwalk The Complete Collections: Chloe Catwalk',\n",
       "  'book_price': 'EGP3,480.00'},\n",
       " {'book_name': 'Think Like an Artist: …and Lead a More Creative, Productiv',\n",
       "  'book_price': 'EGP640.00'},\n",
       " {'book_name': 'Four Ways of Thinking: Statistical, Interactive, Chaotic and',\n",
       "  'book_price': 'EGP1,105.00'},\n",
       " {'book_name': 'The Thursday Murder Club 4: The Last Devil To Die',\n",
       "  'book_price': 'EGP855.00'},\n",
       " {'book_name': '5 Ingredients Mediterranean: Simple Incredible Food',\n",
       "  'book_price': 'EGP1,625.00'},\n",
       " {'book_name': 'Lunch with the FT: A Second Helping (42 New Interviews)',\n",
       "  'book_price': 'EGP870.00'},\n",
       " {'book_name': 'The Bee Sting', 'book_price': 'EGP795.00'},\n",
       " {'book_name': 'The Sociology Book: Big Ideas Simply Explained',\n",
       "  'book_price': 'EGP1,160.00'},\n",
       " {'book_name': 'Both Flesh and Not', 'book_price': 'EGP595.00'},\n",
       " {'book_name': 'Island', 'book_price': 'EGP550.00'}]"
      ]
     },
     "execution_count": 62,
     "metadata": {},
     "output_type": "execute_result"
    }
   ],
   "source": [
    "data"
   ]
  },
  {
   "cell_type": "code",
   "execution_count": 69,
   "id": "4b95d516",
   "metadata": {},
   "outputs": [
    {
     "data": {
      "text/plain": [
       "235"
      ]
     },
     "execution_count": 69,
     "metadata": {},
     "output_type": "execute_result"
    }
   ],
   "source": [
    "num_of_pages = int(soup.find_all(\"a\",{\"class\",\"page-numbers\"})[-2].text)\n",
    "num_of_pages"
   ]
  },
  {
   "cell_type": "code",
   "execution_count": 70,
   "id": "89d002b4",
   "metadata": {},
   "outputs": [],
   "source": [
    "for i in range(num_of_pages):\n",
    "    url = f\"https://diwanegypt.com/product-category/books/english-books/page/{i}/\"\n",
    "    res = requests.get(url)\n",
    "    soup = BeautifulSoup(res.text,\"lxml\")\n",
    "    books =soup.find(\"ul\",{\"class\":\"products columns-5\"}).find_all(\"li\")\n",
    "    for book in books:\n",
    "        try :\n",
    "            book_name = book.find(\"h2\").text\n",
    "        except:\n",
    "            book_name=\"None\"\n",
    "        try :\n",
    "            book_price = book.find(\"span\",{\"class\":\"price\"}).find(\"bdi\").text\n",
    "        except:\n",
    "            book_price=\"None\"\n",
    "\n",
    "        data.append({\"book_name\":book_name,\n",
    "                    \"book_price\":book_price})"
   ]
  },
  {
   "cell_type": "code",
   "execution_count": 73,
   "id": "a5fa61cd",
   "metadata": {},
   "outputs": [
    {
     "data": {
      "text/plain": [
       "4412"
      ]
     },
     "execution_count": 73,
     "metadata": {},
     "output_type": "execute_result"
    }
   ],
   "source": [
    "len(data)"
   ]
  },
  {
   "cell_type": "code",
   "execution_count": 74,
   "id": "2963f700",
   "metadata": {},
   "outputs": [
    {
     "data": {
      "text/html": [
       "<div>\n",
       "<style scoped>\n",
       "    .dataframe tbody tr th:only-of-type {\n",
       "        vertical-align: middle;\n",
       "    }\n",
       "\n",
       "    .dataframe tbody tr th {\n",
       "        vertical-align: top;\n",
       "    }\n",
       "\n",
       "    .dataframe thead th {\n",
       "        text-align: right;\n",
       "    }\n",
       "</style>\n",
       "<table border=\"1\" class=\"dataframe\">\n",
       "  <thead>\n",
       "    <tr style=\"text-align: right;\">\n",
       "      <th></th>\n",
       "      <th>book_name</th>\n",
       "      <th>book_price</th>\n",
       "    </tr>\n",
       "  </thead>\n",
       "  <tbody>\n",
       "    <tr>\n",
       "      <th>0</th>\n",
       "      <td>Getting Lost</td>\n",
       "      <td>EGP695.00</td>\n",
       "    </tr>\n",
       "    <tr>\n",
       "      <th>1</th>\n",
       "      <td>A Man’s Place</td>\n",
       "      <td>EGP435.00</td>\n",
       "    </tr>\n",
       "    <tr>\n",
       "      <th>2</th>\n",
       "      <td>Happening</td>\n",
       "      <td>EGP435.00</td>\n",
       "    </tr>\n",
       "    <tr>\n",
       "      <th>3</th>\n",
       "      <td>Building a Second Brain: A Proven Method to Or...</td>\n",
       "      <td>EGP640.00</td>\n",
       "    </tr>\n",
       "    <tr>\n",
       "      <th>4</th>\n",
       "      <td>Scattered Minds: The Origins and Healing of At...</td>\n",
       "      <td>EGP755.00</td>\n",
       "    </tr>\n",
       "    <tr>\n",
       "      <th>...</th>\n",
       "      <td>...</td>\n",
       "      <td>...</td>\n",
       "    </tr>\n",
       "    <tr>\n",
       "      <th>4407</th>\n",
       "      <td>Chronicles of Narnia 1 Lion, t</td>\n",
       "      <td>EGP325.00</td>\n",
       "    </tr>\n",
       "    <tr>\n",
       "      <th>4408</th>\n",
       "      <td>Brida</td>\n",
       "      <td>EGP325.00</td>\n",
       "    </tr>\n",
       "    <tr>\n",
       "      <th>4409</th>\n",
       "      <td>Pilgrimage</td>\n",
       "      <td>EGP325.00</td>\n",
       "    </tr>\n",
       "    <tr>\n",
       "      <th>4410</th>\n",
       "      <td>Manual of the Warrior of Light</td>\n",
       "      <td>EGP325.00</td>\n",
       "    </tr>\n",
       "    <tr>\n",
       "      <th>4411</th>\n",
       "      <td>Alchemist</td>\n",
       "      <td>EGP325.00</td>\n",
       "    </tr>\n",
       "  </tbody>\n",
       "</table>\n",
       "<p>4412 rows × 2 columns</p>\n",
       "</div>"
      ],
      "text/plain": [
       "                                              book_name book_price\n",
       "0                                          Getting Lost  EGP695.00\n",
       "1                                         A Man’s Place  EGP435.00\n",
       "2                                             Happening  EGP435.00\n",
       "3     Building a Second Brain: A Proven Method to Or...  EGP640.00\n",
       "4     Scattered Minds: The Origins and Healing of At...  EGP755.00\n",
       "...                                                 ...        ...\n",
       "4407                     Chronicles of Narnia 1 Lion, t  EGP325.00\n",
       "4408                                              Brida  EGP325.00\n",
       "4409                                         Pilgrimage  EGP325.00\n",
       "4410                     Manual of the Warrior of Light  EGP325.00\n",
       "4411                                          Alchemist  EGP325.00\n",
       "\n",
       "[4412 rows x 2 columns]"
      ]
     },
     "execution_count": 74,
     "metadata": {},
     "output_type": "execute_result"
    }
   ],
   "source": [
    "import pandas as pd\n",
    "books_data = pd.DataFrame(data)\n",
    "books_data"
   ]
  },
  {
   "cell_type": "code",
   "execution_count": 76,
   "id": "0872ce1d",
   "metadata": {},
   "outputs": [],
   "source": [
    "books_data.to_csv(\"Books_Diwan.csv\", index=False)"
   ]
  },
  {
   "cell_type": "code",
   "execution_count": null,
   "id": "844e5f33",
   "metadata": {},
   "outputs": [],
   "source": [
    "import requests\n",
    "\n",
    "from bs4 import BeautifllulSoup\n",
    "url = \"https://diwanegypt.com/product-category/books/english-books/page/2/\"\n",
    "res = requests.get(url)\n",
    "num_of_pages = int(soup.find_all(\"a\",{\"class\",\"page-numbers\"})[-2].text)\n",
    "\n",
    "for i in range(num_of_pages):\n",
    "    url = f\"https://diwanegypt.com/product-category/books/english-books/page/{i}/\"\n",
    "    res = requests.get(url)\n",
    "    soup = BeautifulSoup(res.text,\"lxml\")\n",
    "    books =soup.find(\"ul\",{\"class\":\"products columns-5\"}).find_all(\"li\")\n",
    "    \n",
    "    for book in books:\n",
    "        try :\n",
    "            book_name = book.find(\"h2\").text\n",
    "        except:\n",
    "            book_name=\"None\"\n",
    "        try :\n",
    "            book_price = book.find(\"span\",{\"class\":\"price\"}).find(\"bdi\").text\n",
    "        except:\n",
    "            book_price=\"None\"\n",
    "\n",
    "        data.append({\"book_name\":book_name,\n",
    "                    \"book_price\":book_price})\n",
    "        \n",
    "import pandas as pd\n",
    "# books_data = pd.DataFrame(data)\n",
    "books_data.to_csv(\"Books_Diwan.csv\", index=False)"
   ]
  }
 ],
 "metadata": {
  "kernelspec": {
   "display_name": "Python 3 (ipykernel)",
   "language": "python",
   "name": "python3"
  },
  "language_info": {
   "codemirror_mode": {
    "name": "ipython",
    "version": 3
   },
   "file_extension": ".py",
   "mimetype": "text/x-python",
   "name": "python",
   "nbconvert_exporter": "python",
   "pygments_lexer": "ipython3",
   "version": "3.11.3"
  }
 },
 "nbformat": 4,
 "nbformat_minor": 5
}
