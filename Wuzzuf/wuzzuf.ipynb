{
 "cells": [
  {
   "cell_type": "code",
   "execution_count": 5,
   "id": "5553fdb9",
   "metadata": {
    "scrolled": true
   },
   "outputs": [],
   "source": [
    "import requests\n",
    "from bs4 import BeautifulSoup"
   ]
  },
  {
   "cell_type": "code",
   "execution_count": 7,
   "id": "b49ef02b",
   "metadata": {},
   "outputs": [
    {
     "data": {
      "text/plain": [
       "<Response [200]>"
      ]
     },
     "execution_count": 7,
     "metadata": {},
     "output_type": "execute_result"
    }
   ],
   "source": [
    "url = \"https://wuzzuf.net/search/jobs/?q=data+science&a=hpb\"\n",
    "src = requests.get(url)\n",
    "src"
   ]
  },
  {
   "cell_type": "code",
   "execution_count": 9,
   "id": "b514df13",
   "metadata": {},
   "outputs": [],
   "source": [
    "soup = BeautifulSoup(src.content,\"lxml\")"
   ]
  },
  {
   "cell_type": "code",
   "execution_count": 11,
   "id": "d93ab27f",
   "metadata": {},
   "outputs": [
    {
     "data": {
      "text/plain": [
       "15"
      ]
     },
     "execution_count": 11,
     "metadata": {},
     "output_type": "execute_result"
    }
   ],
   "source": [
    "jops = soup.find_all(\"div\",{\"class\":\"css-1gatmva e1v1l3u10\"})\n",
    "len(jops)"
   ]
  },
  {
   "cell_type": "code",
   "execution_count": 15,
   "id": "e820687c",
   "metadata": {},
   "outputs": [
    {
     "data": {
      "text/plain": [
       "'Summer Data Science Internship'"
      ]
     },
     "execution_count": 15,
     "metadata": {},
     "output_type": "execute_result"
    }
   ],
   "source": [
    "jop_title = jops[0].find(\"h2\").text\n",
    "jop_title"
   ]
  },
  {
   "cell_type": "code",
   "execution_count": 22,
   "id": "cf03f576",
   "metadata": {},
   "outputs": [
    {
     "data": {
      "text/plain": [
       "'QARA'"
      ]
     },
     "execution_count": 22,
     "metadata": {},
     "output_type": "execute_result"
    }
   ],
   "source": [
    "company_name = jops[0].find(\"div\",{\"class\":\"css-d7j1kk\"}).text.split(\"-\")[0].strip()\n",
    "company_name"
   ]
  },
  {
   "cell_type": "code",
   "execution_count": 198,
   "id": "2c8a3d87",
   "metadata": {},
   "outputs": [
    {
     "data": {
      "text/plain": [
       "'Smart Village, Giza, Egypt'"
      ]
     },
     "execution_count": 198,
     "metadata": {},
     "output_type": "execute_result"
    }
   ],
   "source": [
    "company_country = jops[0].find(\"span\",{\"class\":\"css-5wys0k\"}).text.strip()\n",
    "company_country"
   ]
  },
  {
   "cell_type": "code",
   "execution_count": 36,
   "id": "a0268ffd",
   "metadata": {},
   "outputs": [
    {
     "data": {
      "text/plain": [
       "'Cairo'"
      ]
     },
     "execution_count": 36,
     "metadata": {},
     "output_type": "execute_result"
    }
   ],
   "source": [
    "company_government = jops[0].find(\"div\",{\"class\":\"css-d7j1kk\"}).text.split(',')[1].strip()\n",
    "company_government"
   ]
  },
  {
   "cell_type": "code",
   "execution_count": 136,
   "id": "76287750",
   "metadata": {},
   "outputs": [
    {
     "data": {
      "text/plain": [
       "'Cairo in Egypt'"
      ]
     },
     "execution_count": 136,
     "metadata": {},
     "output_type": "execute_result"
    }
   ],
   "source": [
    "company_locaition = f\"{company_government} in {company_country}\"\n",
    "company_locaition"
   ]
  },
  {
   "cell_type": "code",
   "execution_count": 134,
   "id": "fa08133a",
   "metadata": {},
   "outputs": [
    {
     "name": "stdout",
     "output_type": "stream",
     "text": [
      "3 - 5 Yrs of Exp\n",
      "----------------------------------------------------------------------------------------------------\n",
      "[' IT/Software Development ', ' Analyst/Research ', ' Analysis ', ' analytical ', ' BI ', ' Computer Science ', ' SQL ', ' Statistics ', ' Tableau ', ' Data Analysis']\n"
     ]
    }
   ],
   "source": [
    "if \"Not specified\" in jops[5].find(\"div\",{\"class\":\"css-y4udm8\"}).text[:30]:\n",
    "    jop_exp = \"Not specified\"\n",
    "    jop_skills = jops[5].find(\"div\",{\"class\":\"css-y4udm8\"}).text.split(\"·\")[1:]\n",
    "else : \n",
    "    jop_exp = jops[5].find(\"div\",{\"class\":\"css-y4udm8\"}).text.split(\"·\")[1].strip()\n",
    "    jop_skills = jops[5].find(\"div\",{\"class\":\"css-y4udm8\"}).text.split(\"·\")[2:]\n",
    "print(jop_exp)\n",
    "print(\"-\"*100)\n",
    "print(jop_skills)"
   ]
  },
  {
   "cell_type": "code",
   "execution_count": 199,
   "id": "c2752533",
   "metadata": {},
   "outputs": [],
   "source": [
    "import csv \n",
    "with open(\"wuzuff_jops.csv\",\"w\",encoding=\"UTF-8\",newline=\"\")as fd:\n",
    "    heads = ['jop_title','company_name','company_location',\"jop_exp\",\"jop_num_exp\",\"jop_skills\"]\n",
    "    writer = csv.DictWriter(fd,heads)\n",
    "    writer.writeheader()\n",
    "    \n",
    "    for i in range (num_of_pages):\n",
    "        url = f\"https://wuzzuf.net/search/jobs/?a=hpb&q=data%20science&start={i}\"\n",
    "        src = requests.get(url)\n",
    "        soup = BeautifulSoup(src.content,\"lxml\")\n",
    "        jops = soup.find_all(\"div\",{\"class\":\"css-1gatmva e1v1l3u10\"})\n",
    "        \n",
    "        for jop in jops :\n",
    "\n",
    "            jop_title = jop.find(\"h2\").text\n",
    "\n",
    "            company_name = jop.find(\"div\",{\"class\":\"css-d7j1kk\"}).text.split(\"-\")[0].strip()\n",
    "\n",
    "            company_loc = jop.find(\"span\",{\"class\":\"css-5wys0k\"}).text.strip()\n",
    "\n",
    "            if \"Not specified\" in jop.find(\"div\",{\"class\":\"css-y4udm8\"}).text[:30]:\n",
    "                jop_num_exp = \"None\"\n",
    "                jop_skills = jop.find(\"div\",{\"class\":\"css-y4udm8\"}).text.split(\"·\")[1:]\n",
    "                jop_exp = \"Not specified\"\n",
    "            else : \n",
    "                jop_num_exp = jop.find(\"div\",{\"class\":\"css-y4udm8\"}).text.split(\"·\")[1].strip()\n",
    "                jop_skills = jop.find(\"div\",{\"class\":\"css-y4udm8\"}).text.split(\"·\")[2:]\n",
    "                jop_exp = \"Experienced\"\n",
    "\n",
    "            writer.writerow({'jop_title':jop_title,'company_name':company_name,'company_location':company_loc,\"jop_exp\":jop_exp,\"jop_num_exp\":jop_num_exp,\"jop_skills\":jop_skills})\n"
   ]
  },
  {
   "cell_type": "code",
   "execution_count": 184,
   "id": "2dfcb6df",
   "metadata": {},
   "outputs": [
    {
     "data": {
      "text/plain": [
       "50"
      ]
     },
     "execution_count": 184,
     "metadata": {},
     "output_type": "execute_result"
    }
   ],
   "source": [
    "num_of_pages = 736 % 15\n",
    "if num_of_pages != 0 :\n",
    "    num_of_pages =  736 // 15 + 1\n",
    "else :\n",
    "    num_of_pages = 736 // 15\n",
    "num_of_pages"
   ]
  },
  {
   "cell_type": "code",
   "execution_count": 176,
   "id": "a9ad49b7",
   "metadata": {},
   "outputs": [
    {
     "data": {
      "text/plain": [
       "'Showing 1 - 15 of 73412345'"
      ]
     },
     "execution_count": 176,
     "metadata": {},
     "output_type": "execute_result"
    }
   ],
   "source": [
    "# soup.find(\"div\",{\"class\":\"css-7o92qm\"}).text\n",
    "soup.find(\"div\",{\"class\":\"css-7o92qm\"}).text[:-5].split()[-3]"
   ]
  },
  {
   "cell_type": "code",
   "execution_count": null,
   "id": "d7439b4f",
   "metadata": {},
   "outputs": [],
   "source": []
  }
 ],
 "metadata": {
  "kernelspec": {
   "display_name": "Python 3 (ipykernel)",
   "language": "python",
   "name": "python3"
  },
  "language_info": {
   "codemirror_mode": {
    "name": "ipython",
    "version": 3
   },
   "file_extension": ".py",
   "mimetype": "text/x-python",
   "name": "python",
   "nbconvert_exporter": "python",
   "pygments_lexer": "ipython3",
   "version": "3.11.3"
  }
 },
 "nbformat": 4,
 "nbformat_minor": 5
}
